{
  "nbformat": 4,
  "nbformat_minor": 0,
  "metadata": {
    "colab": {
      "provenance": []
    },
    "kernelspec": {
      "name": "python3",
      "display_name": "Python 3"
    },
    "language_info": {
      "name": "python"
    }
  },
  "cells": [
    {
      "cell_type": "code",
      "execution_count": null,
      "metadata": {
        "id": "n344X2LffoY0"
      },
      "outputs": [],
      "source": [
        "#using unsupervied learning model to predit the average rating for #1 restaurant category in USA\n",
        "#Neural Networks with 1 layer and 1 neuron\n",
        "\n",
        "import json\n",
        "import pandas as pd\n",
        "import tensorflow as tf\n",
        "import warnings\n",
        "warnings.simplefilter(\"ignore\")\n",
        "\n",
        "from matplotlib import pyplot as plt\n",
        "from pprint import pprint\n",
        "from sklearn.cluster import DBSCAN\n",
        "from sklearn.metrics import r2_score, mean_absolute_error\n",
        "from sklearn.model_selection import train_test_split"
      ]
    },
    {
      "cell_type": "code",
      "source": [
        "#read in dataset\n",
        "df = pd.read_csv('cleaned_data.csv')\n",
        "df.head()"
      ],
      "metadata": {
        "id": "x2FQnDrfft_B"
      },
      "execution_count": null,
      "outputs": []
    },
    {
      "cell_type": "code",
      "source": [
        "#separate American Restaurents with others\n",
        "df['category'] = df['category'].fillna('')\n",
        "\n",
        "american_restaurants = df[df['category'].str.contains('American', case=False)]\n",
        "other_restaurants = df[~df['category'].str.contains('American', case=False)]\n"
      ],
      "metadata": {
        "id": "cFXj7Vj7oMpe"
      },
      "execution_count": null,
      "outputs": []
    },
    {
      "cell_type": "code",
      "source": [
        "#Drop irrelative columns and rows with no value\n",
        "columns_to_drop = ['business_id', 'category', 'review_id','user_id']\n",
        "X = other_restaurants.drop(columns=columns_to_drop)\n",
        "X = X.dropna()\n"
      ],
      "metadata": {
        "id": "zQ-gJpeDgLqU"
      },
      "execution_count": null,
      "outputs": []
    },
    {
      "cell_type": "code",
      "source": [
        "#Run DBSCAN model\n",
        "%%time\n",
        "# CAUTION! This step may take several hours\n",
        "model = DBSCAN(eps=10, min_samples=20,metric='l1')\n",
        "model.fit(X)"
      ],
      "metadata": {
        "id": "lr4g4y8tgTWT"
      },
      "execution_count": null,
      "outputs": []
    },
    {
      "cell_type": "code",
      "source": [
        "model.labels_"
      ],
      "metadata": {
        "id": "eKQJcSMCHLw2"
      },
      "execution_count": null,
      "outputs": []
    },
    {
      "cell_type": "code",
      "source": [
        "#Get number to components\n",
        "len(model.components_)\n"
      ],
      "metadata": {
        "id": "9G--CzpWpUtM"
      },
      "execution_count": null,
      "outputs": []
    },
    {
      "cell_type": "code",
      "source": [
        "#View labels\n",
        "pd.Series(model.labels_).value_counts()"
      ],
      "metadata": {
        "id": "gRVPoupnpW4M"
      },
      "execution_count": null,
      "outputs": []
    },
    {
      "cell_type": "code",
      "source": [
        "#Add labels to the dataframe\n",
        "labeled_df = X.copy()\n",
        "labeled_df['label'] = model.labels_ + 1\n",
        "labeled_df"
      ],
      "metadata": {
        "id": "coUXYhRIqUpS"
      },
      "execution_count": null,
      "outputs": []
    },
    {
      "cell_type": "code",
      "source": [
        "#merge labeled df and original df\n",
        "merged_df = pd.merge(X, labeled_df, on=['latitude', 'longitude'], how='inner')\n",
        "merged_df"
      ],
      "metadata": {
        "id": "lRPnEo8BQ7Dl"
      },
      "execution_count": null,
      "outputs": []
    },
    {
      "cell_type": "code",
      "source": [
        "#create pivot table for average rating to each clusters\n",
        "mean_ratings = df.groupby('user_id')['stars'].mean()\n",
        "mean_ratings\n",
        "#user_rating_mapping = mean_ratings.to_dict()\n",
        "\n",
        "#mean_ratings_by_label = labeled_df.groupby(['label'])['stars'].mean().reset_index()\n",
        "\n",
        "#new_df = mean_ratings_by_label.pivot_table(values='stars', fill_value=0)\n",
        "\n",
        "#new_df.columns = [f\"Label_{label}\" for label in new_df.columns]\n",
        "\n",
        "#new_df\n",
        "#new_df = df2[df2['user_id'].isin(top_italian_restaurant_reviewers.index)].groupby(['user_id', 'label']).mean().reset_index().set_index('user_id').pivot(columns='label', values='stars')"
      ],
      "metadata": {
        "id": "DajTOhpLrRJb"
      },
      "execution_count": null,
      "outputs": []
    },
    {
      "cell_type": "code",
      "source": [
        "X = new_df.drop(-1, axis=1).fillna(3)\n",
        "y = new_df[-1]\n",
        "X_train, X_test, y_train, y_test = train_test_split(X, y, random_state=42)\n",
        "nn_model = tf.keras.Sequential()\n",
        "nn_model.add(tf.keras.layers.Dense(units=1, input_dim=len(X.columns)))\n",
        "nn_model.compile(loss=\"MSE\", optimizer=\"adam\", metrics=[\"mse\", \"mae\"])\n",
        "fit_model = nn_model.fit(X_train, y_train, epochs=50)"
      ],
      "metadata": {
        "id": "hxjaYuKLQlMD"
      },
      "execution_count": null,
      "outputs": []
    },
    {
      "cell_type": "code",
      "source": [
        "nn_model.save(\"prediction_model.h5\")\n"
      ],
      "metadata": {
        "id": "9j3MmMA_QspE"
      },
      "execution_count": null,
      "outputs": []
    },
    {
      "cell_type": "code",
      "source": [
        "pd.DataFrame(fit_model.history, index=range(1,len(fit_model.history[\"loss\"])+1)).plot(y=\"mean_squared_error\")\n"
      ],
      "metadata": {
        "id": "oht6ozmKQxeL"
      },
      "execution_count": null,
      "outputs": []
    },
    {
      "cell_type": "code",
      "source": [
        "r2_score(y_test, nn_model.predict(X_test))\n"
      ],
      "metadata": {
        "id": "_nmYoqBHQ1WI"
      },
      "execution_count": null,
      "outputs": []
    },
    {
      "cell_type": "code",
      "source": [
        "mean_absolute_error(y_test, nn_model.predict(X_test))\n"
      ],
      "metadata": {
        "id": "ZzsOdMlLQ218"
      },
      "execution_count": null,
      "outputs": []
    },
    {
      "cell_type": "code",
      "source": [
        "plt.scatter(nn_model.predict(X_test), y_test)\n"
      ],
      "metadata": {
        "id": "ayFVk-tnQ4O-"
      },
      "execution_count": null,
      "outputs": []
    }
  ]
}